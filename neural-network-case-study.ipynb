{
 "cells": [
  {
   "cell_type": "markdown",
   "metadata": {},
   "source": [
    "# Karpathy Stanford Visual Recognition Course\n",
    "## Neural network a case study"
   ]
  },
  {
   "cell_type": "markdown",
   "metadata": {},
   "source": [
    "Importing necessary libraries"
   ]
  },
  {
   "cell_type": "code",
   "execution_count": 1,
   "metadata": {
    "collapsed": true
   },
   "outputs": [],
   "source": [
    "import numpy as np\n",
    "import matplotlib.pyplot as plt"
   ]
  },
  {
   "cell_type": "markdown",
   "metadata": {},
   "source": [
    "## Generate some data\n",
    "Lets generate a classification dataset that is not easily linearly separable. Our favorite example is the spiral dataset."
   ]
  },
  {
   "cell_type": "code",
   "execution_count": 2,
   "metadata": {},
   "outputs": [
    {
     "data": {
      "image/png": "[encoded data removed]",
      "text/plain": [
       "<matplotlib.figure.Figure at 0x7f4cd6774590>"
      ]
     },
     "metadata": {},
     "output_type": "display_data"
    }
   ],
   "source": [
    "N = 100 # number of points per class\n",
    "D = 2 # dimensionality\n",
    "K = 3 # number of classes\n",
    "\n",
    "# some hyperparameters\n",
    "step_size = 1e-0\n",
    "reg = 1e-3 # regularization strength\n",
    "\n",
    "X = np.zeros((N*K,D)) # data matrix (each row = single example)\n",
    "y = np.zeros(N*K, dtype='uint8') # class labels\n",
    "for j in xrange(K):\n",
    "    ix = range(j * N, (j+1) * N)\n",
    "    r = np.linspace(0.0, 1,  N) # radius\n",
    "    theta = np.linspace(j * 4, (j+1) * 4, N) + np.random.rand(N) * 0.2 # theta\n",
    "    X[ix] = np.c_[r * np.sin(theta), r * np.cos(theta)]\n",
    "    y[ix] = j\n",
    "# lets visualize data\n",
    "plt.scatter(X[:, 0], X[:, 1], c=y, s=40, cmap=plt.cm.Spectral)\n",
    "plt.show()\n",
    "    "
   ]
  },
  {
   "cell_type": "markdown",
   "metadata": {},
   "source": [
    "## Initialize parameters\n",
    "We would like to initialize weight matrix and bias vector randomly:"
   ]
  },
  {
   "cell_type": "code",
   "execution_count": 3,
   "metadata": {
    "collapsed": true
   },
   "outputs": [],
   "source": [
    "# intialize parameters randomly\n",
    "W = 0.001 * np.random.randn(D, K) # why we didn't use W=W*np.sqrt(2/D)\n",
    "b = np.zeros([1, K])"
   ]
  },
  {
   "cell_type": "markdown",
   "metadata": {
    "collapsed": true
   },
   "source": [
    "## Compute the Score\n",
    "Since it is a linear classifier, we can compute all the class scores with one matric multiplication"
   ]
  },
  {
   "cell_type": "code",
   "execution_count": 4,
   "metadata": {
    "collapsed": true
   },
   "outputs": [],
   "source": [
    "scores = np.dot(X, W) + b"
   ]
  },
  {
   "cell_type": "markdown",
   "metadata": {},
   "source": [
    "## Compute Loss\n",
    "we can compute the softmax loss for each example i with the following equation\n",
    "\\begin{equation}\n",
    "L_i=-log(\\frac{e^f_{yi}}{\\sum_je^j})\n",
    "\\end{equation}\n",
    "And the total loss of all data and weight regularization is:\n",
    "\\begin{equation}\n",
    "L = 1/N\\sum_iL_i + \\frac{1}{2}\\lambda\\sum_k\\sum_lW_{kl}\n",
    "\\end{equation}"
   ]
  },
  {
   "cell_type": "code",
   "execution_count": 5,
   "metadata": {},
   "outputs": [
    {
     "name": "stdout",
     "output_type": "stream",
     "text": [
      "The initial loss with random initialization is: 1.10\n"
     ]
    }
   ],
   "source": [
    "num_examples = X.shape[0]\n",
    "exp_prob = np.exp(scores)\n",
    "# compute normalized probabilities\n",
    "probabilities = exp_prob/np.sum(exp_prob, axis=1, keepdims=True)\n",
    "# get log probabilities of correct class or L_i at the above formula\n",
    "correct_logprob = -np.log(probabilities[range(num_examples), y])\n",
    "data_loss = np.sum(correct_logprob)/num_examples\n",
    "reg_loss = 0.5*reg*np.sum(W*W)\n",
    "loss = data_loss + reg_loss\n",
    "print(\"The initial loss with random initialization is: %.2f\"%loss)\n"
   ]
  },
  {
   "cell_type": "markdown",
   "metadata": {},
   "source": [
    "## Computing Analytinc gradient of loss function\n",
    "In the course notes an intermediate variable p is introduced for sake of computation and derviative of loss is computed as below:\n",
    "\\begin{equation}\n",
    "p_k = \\frac{e^f_k}{\\sum_ie^f_i}\\\\\n",
    "L_i = -log(p_{y_i})\\\\\n",
    "\\frac{\\partial L_i}{\\partial f_k} = p_k - 1(y_i = k)\n",
    "\\end{equation}\n",
    "The last derivation is the result of analytic gradient of loss that is computed directly at th course notes, however, I couldn't figure out how! \\TODO: proov it in the future."
   ]
  },
  {
   "cell_type": "code",
   "execution_count": 6,
   "metadata": {},
   "outputs": [],
   "source": [
    "# pk int the above formulas is each element of probabilities\n",
    "# dscore is dL_i/df_k\n",
    "dscores = probabilities\n",
    "dscores[range(num_examples), y] -= -1\n",
    "dscores /= num_examples"
   ]
  },
  {
   "cell_type": "code",
   "execution_count": 7,
   "metadata": {},
   "outputs": [],
   "source": [
    "dw = np.dot(X.T, dscores)\n",
    "db = np.sum(dscores, axis=0, keepdims=True)\n",
    "dw += reg*W"
   ]
  },
  {
   "cell_type": "markdown",
   "metadata": {},
   "source": [
    "## Performing parameter updated\n",
    "it's simple, just subtract each parameter from its gradient with a step_size"
   ]
  },
  {
   "cell_type": "code",
   "execution_count": 8,
   "metadata": {
    "collapsed": true
   },
   "outputs": [],
   "source": [
    "W += -step_size*dw\n",
    "b += -step_size*db"
   ]
  },
  {
   "cell_type": "markdown",
   "metadata": {},
   "source": [
    "## Perform a simple parameter update in iteration"
   ]
  },
  {
   "cell_type": "code",
   "execution_count": 9,
   "metadata": {},
   "outputs": [
    {
     "name": "stdout",
     "output_type": "stream",
     "text": [
      "For iteration: 0\n",
      "Data loss: 1.13216530175, Reg loss: 1.71799671903e-05, Total loss: 1.13218248172\n",
      "For iteration: 10\n",
      "Data loss: 0.90852562433, Reg loss: 0.000862692901536, Total loss: 0.909388317231\n",
      "For iteration: 20\n",
      "Data loss: 0.82463813187, Reg loss: 0.0024698356751, Total loss: 0.827107967545\n",
      "For iteration: 30\n",
      "Data loss: 0.785356640407, Reg loss: 0.00402636479362, Total loss: 0.789383005201\n",
      "For iteration: 40\n",
      "Data loss: 0.763984017166, Reg loss: 0.00539566310943, Total loss: 0.769379680276\n",
      "For iteration: 50\n",
      "Data loss: 0.751150512512, Reg loss: 0.00657324675331, Total loss: 0.757723759265\n",
      "For iteration: 60\n",
      "Data loss: 0.74290072647, Reg loss: 0.00758123522847, Total loss: 0.750481961699\n",
      "For iteration: 70\n",
      "Data loss: 0.737327220724, Reg loss: 0.00844470866196, Total loss: 0.745771929386\n",
      "For iteration: 80\n",
      "Data loss: 0.733416437635, Reg loss: 0.00918620818636, Total loss: 0.742602645821\n",
      "For iteration: 90\n",
      "Data loss: 0.73058906257, Reg loss: 0.0098248026704, Total loss: 0.740413865241\n",
      "For iteration: 100\n",
      "Data loss: 0.728494725531, Reg loss: 0.0103763375469, Total loss: 0.738871063078\n",
      "For iteration: 110\n",
      "Data loss: 0.726911764923, Reg loss: 0.0108539358067, Total loss: 0.73776570073\n",
      "For iteration: 120\n",
      "Data loss: 0.725694706545, Reg loss: 0.0112684901071, Total loss: 0.736963196652\n",
      "For iteration: 130\n",
      "Data loss: 0.724745123847, Reg loss: 0.0116290815531, Total loss: 0.7363742054\n",
      "For iteration: 140\n",
      "Data loss: 0.723994688352, Reg loss: 0.0119433195087, Total loss: 0.735938007861\n",
      "For iteration: 150\n",
      "Data loss: 0.723394911476, Reg loss: 0.0122176128754, Total loss: 0.735612524351\n",
      "For iteration: 160\n",
      "Data loss: 0.722910722564, Reg loss: 0.0124573859102, Total loss: 0.735368108474\n",
      "For iteration: 170\n",
      "Data loss: 0.722516329601, Reg loss: 0.0126672503237, Total loss: 0.735183579925\n",
      "For iteration: 180\n",
      "Data loss: 0.722192482685, Reg loss: 0.0128511432098, Total loss: 0.735043625895\n",
      "For iteration: 190\n",
      "Data loss: 0.721924624191, Reg loss: 0.0130124382846, Total loss: 0.734937062475\n"
     ]
    }
   ],
   "source": [
    "iteration_num = 200\n",
    "for i in xrange(iteration_num):\n",
    "    # get class scores\n",
    "    scores = np.dot(X, W) + b\n",
    "    \n",
    "    probabilities = np.exp(scores)\n",
    "    probabilities /=  np.sum(probabilities, axis=1, keepdims=True)\n",
    "    \n",
    "    correct_logprob = -np.log(probabilities[range(num_examples), y])\n",
    "    data_loss = np.sum(correct_logprob)/num_examples\n",
    "    reg_loss = 0.5*reg*np.sum(W*W)\n",
    "    loss = data_loss + reg_loss\n",
    "    if i % 10 == 0:\n",
    "        print(\"For iteration: %d\"%i)\n",
    "        print(\"Data loss: {}, Reg loss: {}, Total loss: {}\".format(data_loss, reg_loss, loss))\n",
    "    \n",
    "    # compute gradient and perform parameter update\n",
    "    dscores = probabilities\n",
    "    dscores[range(num_examples), y] -= 1\n",
    "    dscores /= num_examples\n",
    "    dW = np.dot(X.T, dscores)\n",
    "    db = np.sum(dscores, axis=0, keepdims=True)\n",
    "    dW += reg * W\n",
    "    \n",
    "    W -= step_size * dW\n",
    "    b -= step_size * db\n",
    "    "
   ]
  },
  {
   "cell_type": "markdown",
   "metadata": {},
   "source": [
    "## Evaluate accuracy on train data"
   ]
  },
  {
   "cell_type": "code",
   "execution_count": 10,
   "metadata": {},
   "outputs": [
    {
     "name": "stdout",
     "output_type": "stream",
     "text": [
      "The training accuracy is: 0.53\n"
     ]
    }
   ],
   "source": [
    "scores = np.dot(X, W) + b\n",
    "predicted_labels = np.argmax(scores, axis=1)\n",
    "print(\"The training accuracy is: %.2f\" % np.mean(predicted_labels==y))"
   ]
  },
  {
   "cell_type": "code",
   "execution_count": 11,
   "metadata": {},
   "outputs": [
    {
     "data": {
      "image/png": "[encoded data removed]",
      "text/plain": [
       "<matplotlib.figure.Figure at 0x7f4cd64cb450>"
      ]
     },
     "metadata": {},
     "output_type": "display_data"
    }
   ],
   "source": [
    "# Visualize trained linear moder\n",
    "data_range = np.linspace(-1, 1, 100)\n",
    "X_meshgrid, Y_meshgrid = np.meshgrid(data_range, data_range)\n",
    "Z_meshgrid = np.dot(np.c_[X_meshgrid.flatten(), Y_meshgrid.flatten()], W) + b\n",
    "plt.contourf(X_meshgrid, Y_meshgrid, np.argmax(Z_meshgrid, axis=1).reshape(X_meshgrid.shape), c=y, s=40, cmap=plt.cm.Spectral)\n",
    "plt.scatter(X[:, 0], X[:, 1], c=y, s=40, cmap=plt.cm.Spectral)\n",
    "plt.show()"
   ]
  },
  {
   "cell_type": "markdown",
   "metadata": {},
   "source": [
    "## Train a simple one layer neural network"
   ]
  },
  {
   "cell_type": "code",
   "execution_count": 21,
   "metadata": {},
   "outputs": [
    {
     "name": "stdout",
     "output_type": "stream",
     "text": [
      "For iteration: 0\n",
      "Data loss: 1.09855198868, Reg loss: 2.54253345577e-05, Total loss: 1.09857741401\n",
      "For iteration: 1000\n",
      "Data loss: 0.159983324125, Reg loss: 0.106281524656, Total loss: 0.266264848781\n",
      "For iteration: 2000\n",
      "Data loss: 0.12956738508, Reg loss: 0.118767781486, Total loss: 0.248335166566\n",
      "For iteration: 3000\n",
      "Data loss: 0.117965155603, Reg loss: 0.123291357794, Total loss: 0.241256513397\n",
      "For iteration: 4000\n",
      "Data loss: 0.107760698022, Reg loss: 0.126391819671, Total loss: 0.234152517693\n",
      "For iteration: 5000\n",
      "Data loss: 0.10316335702, Reg loss: 0.126582313716, Total loss: 0.229745670736\n",
      "For iteration: 6000\n",
      "Data loss: 0.102325061624, Reg loss: 0.125621433217, Total loss: 0.227946494842\n",
      "For iteration: 7000\n",
      "Data loss: 0.102021755963, Reg loss: 0.125126145577, Total loss: 0.227147901541\n",
      "For iteration: 8000\n",
      "Data loss: 0.102119437794, Reg loss: 0.124805311866, Total loss: 0.22692474966\n",
      "For iteration: 9000\n",
      "Data loss: 0.102168379499, Reg loss: 0.124690721185, Total loss: 0.226859100685\n",
      "For iteration: 10000\n",
      "Data loss: 0.102225837722, Reg loss: 0.124602295086, Total loss: 0.226828132808\n",
      "For iteration: 11000\n",
      "Data loss: 0.102318822353, Reg loss: 0.124486433327, Total loss: 0.22680525568\n",
      "For iteration: 12000\n",
      "Data loss: 0.102336289798, Reg loss: 0.124453506997, Total loss: 0.226789796795\n",
      "For iteration: 13000\n",
      "Data loss: 0.102335901015, Reg loss: 0.124443587274, Total loss: 0.226779488289\n",
      "For iteration: 14000\n",
      "Data loss: 0.102343370286, Reg loss: 0.124430468272, Total loss: 0.226773838558\n",
      "For iteration: 15000\n",
      "Data loss: 0.102341366181, Reg loss: 0.124427574582, Total loss: 0.226768940763\n",
      "For iteration: 16000\n",
      "Data loss: 0.102341217939, Reg loss: 0.12442611607, Total loss: 0.226767334009\n",
      "For iteration: 17000\n",
      "Data loss: 0.102341524274, Reg loss: 0.124423899154, Total loss: 0.226765423428\n",
      "For iteration: 18000\n",
      "Data loss: 0.10233673215, Reg loss: 0.124426005672, Total loss: 0.226762737822\n",
      "For iteration: 19000\n",
      "Data loss: 0.102334213231, Reg loss: 0.124427689189, Total loss: 0.22676190242\n"
     ]
    }
   ],
   "source": [
    "hidden_size = 100\n",
    "W0 = 0.01 * np.random.randn(D, hidden_size)\n",
    "b0 = np.zeros([1, hidden_size])\n",
    "W1 = 0.01 * np.random.randn(hidden_size, K)\n",
    "b1 = np.zeros([1, K])\n",
    "iteration_num = 20000\n",
    "# some hyperparameters\n",
    "step_size = 1e-0\n",
    "reg = 1e-3 # regularization strength\n",
    "\n",
    "for i in xrange(iteration_num):\n",
    "    \n",
    "    hidden_layer = np.maximum(0, np.dot(X, W0) + b0)\n",
    "    scores = np.dot(hidden_layer, W1) + b1\n",
    "    probabilities = np.exp(scores)\n",
    "    probabilities /= np.sum(probabilities, axis=1, keepdims=True)\n",
    "    \n",
    "    correct_logprob = -np.log(probabilities[range(num_examples), y])\n",
    "    data_loss = np.sum(correct_logprob)/num_examples\n",
    "    reg_loss = 0.5 * reg * (np.sum(W0*W0) + np.sum(W1*W1))\n",
    "    loss = data_loss + reg_loss\n",
    "    if i % 1000 == 0:\n",
    "        print(\"For iteration: %d\"%i)\n",
    "        print(\"Data loss: {}, Reg loss: {}, Total loss: {}\".format(data_loss, reg_loss, loss))\n",
    "    \n",
    "    dscores = probabilities\n",
    "    dscores[range(num_examples), y] -= 1\n",
    "    dscores /= num_examples\n",
    "    \n",
    "    dW1 = np.dot(hidden_layer.T, dscores)\n",
    "    db1 = np.sum(dscores, axis=0, keepdims=True)\n",
    "    dhidden = np.dot(dscores, W1.T)\n",
    "    dhidden[hidden_layer <= 0] = 0\n",
    "    dW0 = np.dot(X.T, dhidden)\n",
    "    db0 = np.sum(dhidden, axis=0, keepdims=True)\n",
    "    \n",
    "    dW1 += reg * W1\n",
    "    dW0 += reg * W0\n",
    "    \n",
    "    W0 -= step_size * dW0\n",
    "    b0 -= step_size * db0\n",
    "    W1 -= step_size * dW1\n",
    "    b1 -= step_size * db1\n"
   ]
  },
  {
   "cell_type": "markdown",
   "metadata": {},
   "source": [
    "## Evaluate on train data"
   ]
  },
  {
   "cell_type": "code",
   "execution_count": 22,
   "metadata": {},
   "outputs": [
    {
     "name": "stdout",
     "output_type": "stream",
     "text": [
      "Accuracy on train data is: 0.99\n"
     ]
    }
   ],
   "source": [
    "scores = np.dot(np.maximum(0, np.dot(X, W0) + b0), W1) + b1\n",
    "predicted_labels = np.argmax(scores, axis=1)\n",
    "print(\"Accuracy on train data is: %.2f\"%np.mean(predicted_labels==y))"
   ]
  },
  {
   "cell_type": "code",
   "execution_count": 23,
   "metadata": {},
   "outputs": [
    {
     "data": {
      "image/png": "[encoded data removed]",
      "text/plain": [
       "<matplotlib.figure.Figure at 0x7f4cd39294d0>"
      ]
     },
     "metadata": {},
     "output_type": "display_data"
    }
   ],
   "source": [
    "# Visualize trained linear moder\n",
    "data_range = np.linspace(-1, 1, 100)\n",
    "X_meshgrid, Y_meshgrid = np.meshgrid(data_range, data_range)\n",
    "Z_meshgrid = np.dot(np.maximum(0, np.dot(np.c_[X_meshgrid.flatten(), Y_meshgrid.flatten()], W0) + b0), W1) + b1\n",
    "plt.contourf(X_meshgrid, Y_meshgrid, np.argmax(Z_meshgrid, axis=1).reshape(X_meshgrid.shape), c=y, s=40, cmap=plt.cm.Spectral)\n",
    "plt.scatter(X[:, 0], X[:, 1], c=y, s=40, cmap=plt.cm.Spectral)\n",
    "plt.show()"
   ]
  }
 ],
 "metadata": {
  "kernelspec": {
   "display_name": "Python 2",
   "language": "python",
   "name": "python2"
  },
  "language_info": {
   "codemirror_mode": {
    "name": "ipython",
    "version": 2
   },
   "file_extension": ".py",
   "mimetype": "text/x-python",
   "name": "python",
   "nbconvert_exporter": "python",
   "pygments_lexer": "ipython2",
   "version": "2.7.13"
  }
 },
 "nbformat": 4,
 "nbformat_minor": 2
}
